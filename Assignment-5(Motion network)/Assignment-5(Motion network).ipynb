{
 "cells": [
  {
   "cell_type": "code",
   "execution_count": 101,
   "id": "8be3ca73",
   "metadata": {},
   "outputs": [],
   "source": [
    "import numpy as np\n",
    "import cv2\n",
    "import matplotlib.pyplot as plt\n",
    "\n",
    "layer_1 = []\n",
    "layer_2 = []"
   ]
  },
  {
   "cell_type": "code",
   "execution_count": 82,
   "id": "39a76d1a",
   "metadata": {},
   "outputs": [],
   "source": [
    "coordinates = [[-4, 0], [2, 1], [2, -1]]"
   ]
  },
  {
   "cell_type": "code",
   "execution_count": 83,
   "id": "2eeb5e83",
   "metadata": {},
   "outputs": [],
   "source": [
    "impulses = [[45, 70, 50, 60], [50, 65, 45], [60, 30, 90]]"
   ]
  },
  {
   "cell_type": "code",
   "execution_count": 102,
   "id": "c9aaa543",
   "metadata": {},
   "outputs": [],
   "source": [
    "def calculate_final_coordinates(coordinates, impulses):\n",
    "    for i in range(0, len(coordinates)):\n",
    "        for j in range(0, len(impulses[i])):\n",
    "            coordinates[i][0] = coordinates[i][0]+np.cos(np.pi*impulses[i][j]/180)\n",
    "            coordinates[i][1] = coordinates[i][1]+np.sin(np.pi*impulses[i][j]/180)\n",
    "    return coordinates"
   ]
  },
  {
   "cell_type": "code",
   "execution_count": 103,
   "id": "31546540",
   "metadata": {},
   "outputs": [],
   "source": [
    "def isConvergent(coordinates):\n",
    "    x_coords = []\n",
    "    y_coords = []\n",
    "    for coordinate in coordinates:\n",
    "        x_coords.append(coordinate[0])\n",
    "        y_coords.append(coordinate[1])\n",
    "    for i in range(0, len(x_coords)-1):\n",
    "        for j in range(1, len(x_coords)):\n",
    "            if abs(x_coords[i]-x_coords[j])>1e-4:\n",
    "                return False\n",
    "    for i in range(0, len(y_coords)-1):\n",
    "        for j in range(1, len(y_coords)):\n",
    "            if abs(y_coords[i]-y_coords[j])>1e-4:\n",
    "                return False\n",
    "    return True"
   ]
  },
  {
   "cell_type": "code",
   "execution_count": 104,
   "id": "8e24ae09",
   "metadata": {},
   "outputs": [],
   "source": [
    "def evaluateConvergence(coordinates, impulses):\n",
    "    final_coordinates = calculate_final_coordinates(coordinates, impulses)\n",
    "    for coordinate in final_coordinates:\n",
    "        plt.xlim = [-10, 10]\n",
    "        plt.ylim = [-10, 10]\n",
    "        plt.scatter(coordinate[0], coordinate[1])\n",
    "    if isConvergent(final_coordinates):\n",
    "        print(\"Points converge!\")\n",
    "    else:\n",
    "        print(\"Points do not converge!\")"
   ]
  },
  {
   "cell_type": "markdown",
   "id": "4d314392",
   "metadata": {},
   "source": [
    "## Non convergent points"
   ]
  },
  {
   "cell_type": "code",
   "execution_count": 87,
   "id": "28ee4b88",
   "metadata": {},
   "outputs": [
    {
     "data": {
      "image/png": "[encoded data removed]",
      "text/plain": [
       "<Figure size 432x288 with 1 Axes>"
      ]
     },
     "metadata": {
      "needs_background": "light"
     },
     "output_type": "display_data"
    }
   ],
   "source": [
    "for coordinate in coordinates:\n",
    "        plt.scatter(coordinate[0], coordinate[1])"
   ]
  },
  {
   "cell_type": "code",
   "execution_count": 99,
   "id": "4261ecfc",
   "metadata": {},
   "outputs": [
    {
     "name": "stdout",
     "output_type": "stream",
     "text": [
      "Points do not converge!\n"
     ]
    },
    {
     "data": {
      "image/png": "[encoded data removed]",
      "text/plain": [
       "<Figure size 432x288 with 1 Axes>"
      ]
     },
     "metadata": {
      "needs_background": "light"
     },
     "output_type": "display_data"
    }
   ],
   "source": [
    "evaluateConvergence(coordinates, impulses)"
   ]
  },
  {
   "cell_type": "markdown",
   "id": "96d46b7b",
   "metadata": {},
   "source": [
    "## Points are convergent"
   ]
  },
  {
   "cell_type": "code",
   "execution_count": 105,
   "id": "bafc5b22",
   "metadata": {},
   "outputs": [
    {
     "data": {
      "image/png": "[encoded data removed]",
      "text/plain": [
       "<Figure size 432x288 with 1 Axes>"
      ]
     },
     "metadata": {
      "needs_background": "light"
     },
     "output_type": "display_data"
    }
   ],
   "source": [
    "coordinates = [[-1, 0], [1, 0], [0, 1]]\n",
    "impulses = [[0], [180], [-90]]\n",
    "for coordinate in coordinates:\n",
    "        plt.scatter(coordinate[0], coordinate[1])"
   ]
  },
  {
   "cell_type": "code",
   "execution_count": 106,
   "id": "8ecb3404",
   "metadata": {},
   "outputs": [
    {
     "name": "stdout",
     "output_type": "stream",
     "text": [
      "Points converge!\n"
     ]
    },
    {
     "data": {
      "image/png": "[encoded data removed]",
      "text/plain": [
       "<Figure size 432x288 with 1 Axes>"
      ]
     },
     "metadata": {
      "needs_background": "light"
     },
     "output_type": "display_data"
    }
   ],
   "source": [
    "evaluateConvergence(coordinates, impulses)"
   ]
  },
  {
   "cell_type": "code",
   "execution_count": null,
   "id": "820c81ac",
   "metadata": {},
   "outputs": [],
   "source": []
  }
 ],
 "metadata": {
  "kernelspec": {
   "display_name": "Python 3 (ipykernel)",
   "language": "python",
   "name": "python3"
  },
  "language_info": {
   "codemirror_mode": {
    "name": "ipython",
    "version": 3
   },
   "file_extension": ".py",
   "mimetype": "text/x-python",
   "name": "python",
   "nbconvert_exporter": "python",
   "pygments_lexer": "ipython3",
   "version": "3.9.12"
  }
 },
 "nbformat": 4,
 "nbformat_minor": 5
}
