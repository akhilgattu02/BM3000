{
 "cells": [
  {
   "cell_type": "code",
   "execution_count": 51,
   "id": "8be3ca73",
   "metadata": {},
   "outputs": [],
   "source": [
    "import numpy as np\n",
    "import cv2\n",
    "import matplotlib.pyplot as plt\n",
    "\n",
    "layer_1 = []\n",
    "layer_2 = []"
   ]
  },
  {
   "cell_type": "code",
   "execution_count": 52,
   "id": "39a76d1a",
   "metadata": {},
   "outputs": [],
   "source": [
    "coordinates = [[-4, 0], [2, 1], [2, -1]]\n",
    "transformed_coordinates = []"
   ]
  },
  {
   "cell_type": "code",
   "execution_count": 53,
   "id": "2eeb5e83",
   "metadata": {},
   "outputs": [],
   "source": [
    "impulses = [[45, 70, 50], [50, 65, 45], [60, 30, 90]]"
   ]
  },
  {
   "cell_type": "code",
   "execution_count": 54,
   "id": "c9aaa543",
   "metadata": {},
   "outputs": [],
   "source": [
    "def calculate_final_coordinates(coordinates, impulses):\n",
    "    for i in range(0, len(coordinates)):\n",
    "        temp = []\n",
    "        for j in range(0, len(impulses[i])):\n",
    "            coordinates[i][0] = coordinates[i][0]+np.cos(np.pi*impulses[i][j]/180)\n",
    "            coordinates[i][1] = coordinates[i][1]+np.sin(np.pi*impulses[i][j]/180)\n",
    "            temp.append([coordinates[i][0], coordinates[i][1]])\n",
    "        transformed_coordinates.append(temp)\n",
    "    return coordinates"
   ]
  },
  {
   "cell_type": "code",
   "execution_count": 55,
   "id": "31546540",
   "metadata": {},
   "outputs": [],
   "source": [
    "def isConvergent(coordinates):\n",
    "    x_coords = []\n",
    "    y_coords = []\n",
    "    for coordinate in coordinates:\n",
    "        x_coords.append(coordinate[0])\n",
    "        y_coords.append(coordinate[1])\n",
    "    for i in range(0, len(x_coords)-1):\n",
    "        for j in range(1, len(x_coords)):\n",
    "            if abs(x_coords[i]-x_coords[j])>1e-4:\n",
    "                return False\n",
    "    for i in range(0, len(y_coords)-1):\n",
    "        for j in range(1, len(y_coords)):\n",
    "            if abs(y_coords[i]-y_coords[j])>1e-4:\n",
    "                return False\n",
    "    return True"
   ]
  },
  {
   "cell_type": "code",
   "execution_count": 56,
   "id": "8e24ae09",
   "metadata": {},
   "outputs": [],
   "source": [
    "def evaluateConvergence(coordinates, impulses):\n",
    "    final_coordinates = calculate_final_coordinates(coordinates, impulses)\n",
    "    for coordinate in final_coordinates:\n",
    "        plt.xlim = [-10, 10]\n",
    "        plt.ylim = [-10, 10]\n",
    "        plt.scatter(coordinate[0], coordinate[1])\n",
    "    if isConvergent(final_coordinates):\n",
    "        print(\"Points converge!\")\n",
    "    else:\n",
    "        print(\"Points do not converge!\")"
   ]
  },
  {
   "cell_type": "code",
   "execution_count": null,
   "id": "71313b0c",
   "metadata": {},
   "outputs": [],
   "source": []
  }
 ],
 "metadata": {
  "kernelspec": {
   "display_name": "Python 3 (ipykernel)",
   "language": "python",
   "name": "python3"
  },
  "language_info": {
   "codemirror_mode": {
    "name": "ipython",
    "version": 3
   },
   "file_extension": ".py",
   "mimetype": "text/x-python",
   "name": "python",
   "nbconvert_exporter": "python",
   "pygments_lexer": "ipython3",
   "version": "3.9.12"
  },
  "vscode": {
   "interpreter": {
    "hash": "b57f3041e8bdc347c2bfc3d5281b8dcc6beb3e8da6b009457e9242b952eab689"
   }
  }
 },
 "nbformat": 4,
 "nbformat_minor": 5
}
