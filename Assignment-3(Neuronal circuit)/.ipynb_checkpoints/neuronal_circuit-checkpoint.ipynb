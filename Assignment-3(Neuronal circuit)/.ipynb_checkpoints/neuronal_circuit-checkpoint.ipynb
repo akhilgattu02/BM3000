{
 "cells": [
  {
   "cell_type": "code",
   "execution_count": 49,
   "metadata": {},
   "outputs": [],
   "source": [
    "import numpy as np\n",
    "import matplotlib.pyplot as plt\n",
    "import seaborn as sb"
   ]
  },
  {
   "cell_type": "code",
   "execution_count": 84,
   "metadata": {},
   "outputs": [],
   "source": [
    "weights = np.array([[0,1,0,0],[1,0,1,0],[0,1,0,1],[0,0,1,0]])"
   ]
  },
  {
   "cell_type": "code",
   "execution_count": 85,
   "metadata": {},
   "outputs": [
    {
     "data": {
      "text/plain": [
       "1"
      ]
     },
     "execution_count": 85,
     "metadata": {},
     "output_type": "execute_result"
    }
   ],
   "source": [
    "x = [[0, 1, 0, 1]]\n",
    "#x.append(weights@np.transpose(x[0]))\n",
    "#neg = [[0, 1, 0, 1]]\n",
    "#x.append(np.transpose(weights@x[1]))\n",
    "#np.multiply([0,1,0,1],[0,2,0,1])\n",
    "x_t = []\n",
    "x[0][1]"
   ]
  },
  {
   "cell_type": "code",
   "execution_count": 86,
   "metadata": {},
   "outputs": [
    {
     "data": {
      "text/plain": [
       "[<matplotlib.lines.Line2D at 0x7fcffaaacf10>]"
      ]
     },
     "execution_count": 86,
     "metadata": {},
     "output_type": "execute_result"
    },
    {
     "data": {
      "image/png": "[encoded data removed]",
      "text/plain": [
       "<Figure size 432x288 with 1 Axes>"
      ]
     },
     "metadata": {
      "needs_background": "light"
     },
     "output_type": "display_data"
    }
   ],
   "source": [
    "for i in range(1, 10):\n",
    "    x.append(weights@np.transpose(x[i-1]))\n",
    "    x_t.append(np.transpose(x[i])[1]-np.transpose(x[i-1])[1])\n",
    "plt.plot(x_t)"
   ]
  },
  {
   "cell_type": "code",
   "execution_count": 53,
   "metadata": {},
   "outputs": [
    {
     "data": {
      "text/plain": [
       "[[0, 1, 0, 0],\n",
       " array([1, 0, 1, 0]),\n",
       " array([0, 2, 0, 1]),\n",
       " array([2, 0, 3, 0]),\n",
       " array([0, 5, 0, 3])]"
      ]
     },
     "execution_count": 53,
     "metadata": {},
     "output_type": "execute_result"
    }
   ],
   "source": [
    "x"
   ]
  },
  {
   "cell_type": "code",
   "execution_count": null,
   "metadata": {},
   "outputs": [],
   "source": []
  }
 ],
 "metadata": {
  "kernelspec": {
   "display_name": "Python 3 (ipykernel)",
   "language": "python",
   "name": "python3"
  },
  "language_info": {
   "codemirror_mode": {
    "name": "ipython",
    "version": 3
   },
   "file_extension": ".py",
   "mimetype": "text/x-python",
   "name": "python",
   "nbconvert_exporter": "python",
   "pygments_lexer": "ipython3",
   "version": "3.9.12"
  },
  "vscode": {
   "interpreter": {
    "hash": "b57f3041e8bdc347c2bfc3d5281b8dcc6beb3e8da6b009457e9242b952eab689"
   }
  }
 },
 "nbformat": 4,
 "nbformat_minor": 2
}
